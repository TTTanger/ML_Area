{
 "cells": [
  {
   "cell_type": "code",
   "execution_count": 3,
   "id": "ce50d356",
   "metadata": {},
   "outputs": [],
   "source": [
    "import numpy as np\n",
    "from sklearn.linear_model import LogisticRegression\n",
    "\n",
    "# 1. 准备我们的迷你数据集\n",
    "# 特征矩阵 X (注意：scikit-learn 期望每行是一个样本)\n",
    "X = np.array([\n",
    "    [1, 1],   # 样本1\n",
    "    [2, -1],  # 样本2\n",
    "    [-1, -2]  # 样本3\n",
    "])\n",
    "\n",
    "# 标签向量 y\n",
    "y = np.array([1, 1, 0]) # 对应样本1, 2, 3的标签"
   ]
  },
  {
   "cell_type": "code",
   "execution_count": 4,
   "id": "7419749a",
   "metadata": {},
   "outputs": [
    {
     "name": "stdout",
     "output_type": "stream",
     "text": [
      "--- 训练完成！让我们看看模型学到了什么 ---\n"
     ]
    }
   ],
   "source": [
    "# 2. 创建并训练逻辑回归模型\n",
    "# 我们创建一个模型的实例\n",
    "# solver='lbfgs' 是一个默认的、性能很好的优化算法，它在背后做的就是类似梯度下降的事情\n",
    "model = LogisticRegression(solver='lbfgs')\n",
    "\n",
    "# 训练模型！scikit-learn中最核心的一步\n",
    "# .fit() 会自动完成我们讨论过的所有迭代优化过程\n",
    "model.fit(X, y)\n",
    "\n",
    "print(\"--- 训练完成！让我们看看模型学到了什么 ---\")"
   ]
  },
  {
   "cell_type": "code",
   "execution_count": 5,
   "id": "8f9cf850",
   "metadata": {},
   "outputs": [
    {
     "name": "stdout",
     "output_type": "stream",
     "text": [
      "学到的权重 w: [0.70962145 0.51477579]\n",
      "学到的偏置 b: 0.7760752069972491\n"
     ]
    }
   ],
   "source": [
    "# 3. 查看模型学到的参数\n",
    "# 这就是模型找到的最优 w (权重)\n",
    "# model.coef_ 的形状是 (1, n_features)，所以我们用 [0] 来提取\n",
    "w = model.coef_[0]\n",
    "# 这就是模型找到的最优 b (偏置)\n",
    "b = model.intercept_[0]\n",
    "\n",
    "print(f\"学到的权重 w: {w}\")\n",
    "print(f\"学到的偏置 b: {b}\")"
   ]
  },
  {
   "cell_type": "code",
   "execution_count": 6,
   "id": "e7cdf8f9",
   "metadata": {},
   "outputs": [
    {
     "name": "stdout",
     "output_type": "stream",
     "text": [
      "\n",
      "模型对原始数据的预测结果: [1 1 0]\n",
      "真实标签:                  [1 1 0]\n",
      "\n",
      "模型预测的概率 (类别0的概率, 类别1的概率):\n",
      "[[0.11915333 0.88084667]\n",
      " [0.15702367 0.84297633]\n",
      " [0.72374161 0.27625839]]\n"
     ]
    }
   ],
   "source": [
    "# 4. 用训练好的模型进行预测\n",
    "# 看看模型对自己训练过的数据，预测结果是什么\n",
    "predictions = model.predict(X)\n",
    "print(f\"\\n模型对原始数据的预测结果: {predictions}\")\n",
    "print(f\"真实标签:                  {y}\")\n",
    "\n",
    "# 我们还可以看看模型预测的“概率”是多少（也就是最终的ŷ）\n",
    "probabilities = model.predict_proba(X)\n",
    "print(f\"\\n模型预测的概率 (类别0的概率, 类别1的概率):\\n{probabilities}\")"
   ]
  },
  {
   "cell_type": "code",
   "execution_count": null,
   "id": "6469b383",
   "metadata": {},
   "outputs": [
    {
     "name": "stdout",
     "output_type": "stream",
     "text": [
      "\n",
      "--- 对一个新数据点 [ 1 -2] 进行预测 ---\n",
      "预测类别是: 1\n",
      "预测概率是 (类别0, 类别1): [0.38790072 0.61209928]\n"
     ]
    }
   ],
   "source": [
    "# 5. 在一个全新的未知数据点上进行测试\n",
    "x_new = np.array([[1, -2]]) # 比如一个新的点\n",
    "new_prediction = model.predict(x_new)\n",
    "new_prob = model.predict_proba(x_new) # 输出每个样本属于各类别的概率\n",
    "\n",
    "print(f\"\\n--- 对一个新数据点 {x_new[0]} 进行预测 ---\")\n",
    "print(f\"预测类别是: {new_prediction[0]}\")\n",
    "print(f\"预测概率是 (类别0, 类别1): {new_prob[0]}\")"
   ]
  }
 ],
 "metadata": {
  "kernelspec": {
   "display_name": "mlenv",
   "language": "python",
   "name": "python3"
  },
  "language_info": {
   "codemirror_mode": {
    "name": "ipython",
    "version": 3
   },
   "file_extension": ".py",
   "mimetype": "text/x-python",
   "name": "python",
   "nbconvert_exporter": "python",
   "pygments_lexer": "ipython3",
   "version": "3.9.23"
  }
 },
 "nbformat": 4,
 "nbformat_minor": 5
}
